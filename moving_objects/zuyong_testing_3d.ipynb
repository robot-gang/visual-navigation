{
 "cells": [
  {
   "cell_type": "code",
   "execution_count": null,
   "metadata": {},
   "outputs": [],
   "source": [
    "%load_ext autoreload\n",
    "%autoreload 2\n",
    "\n",
    "import numpy as np\n",
    "import detector\n",
    "import matplotlib.pyplot as plt\n",
    "import cv2\n",
    "import skvideo.io as io\n",
    "import time"
   ]
  },
  {
   "cell_type": "code",
   "execution_count": null,
   "metadata": {},
   "outputs": [],
   "source": [
    "num1 = 254\n",
    "num2 = 259\n",
    "\n",
    "im1 = 'imgs/{}_cam-image_array_.jpg'.format(num1)\n",
    "im2 = 'imgs/{}_cam-image_array_.jpg'.format(num2)\n",
    "depth1 = 'imgs/{}_cam-depth_array_.png'.format(num1)\n",
    "depth2 = 'imgs/{}_cam-depth_array_.png'.format(num2)\n",
    "\n",
    "im1 = cv2.imread(im1, cv2.IMREAD_GRAYSCALE)\n",
    "im2 = cv2.imread(im2, cv2.IMREAD_GRAYSCALE)\n",
    "depth1 = cv2.imread(depth1, -1)\n",
    "depth2 = cv2.imread(depth2, -1)\n",
    "depth1 = cv2.GaussianBlur(depth1, (9, 7), 0)\n",
    "depth2 = cv2.GaussianBlur(depth2, (9, 7), 0)\n",
    "\n",
    "detect = detector.Detector(im1, im2, depth1, depth2, detector='fast')"
   ]
  },
  {
   "cell_type": "code",
   "execution_count": null,
   "metadata": {},
   "outputs": [],
   "source": [
    "kp1, kp2, matches = detect.match()\n",
    "result_2d = detect.detect_2D(kp1, kp2, matches)\n",
    "plt.imshow(result_2d, cmap='gray')"
   ]
  },
  {
   "cell_type": "code",
   "execution_count": null,
   "metadata": {
    "scrolled": true
   },
   "outputs": [],
   "source": [
    "kp1, des1, kp2, des2 = detect.feature_extraction()\n",
    "matches = detect.fMatcher.knnMatch(des2, des1, k=2)\n",
    "good = []\n",
    "for m,n in matches:\n",
    "    if m.distance < 0.75*n.distance:\n",
    "        good.append(m)\n",
    "img3 = cv2.drawMatches(detect.img1,kp1,detect.img2,kp2,good[:300],None,flags=cv2.DrawMatchesFlags_NOT_DRAW_SINGLE_POINTS)\n",
    "plt.figure(figsize=(12, 6))\n",
    "plt.imshow(img3)\n",
    "kp1_3D, kp2_3D = detect.compute3D(good, kp1, kp2)\n",
    "R, T, mask = detect.estimate_rigid_transform(kp1_3D, kp2_3D)"
   ]
  },
  {
   "cell_type": "code",
   "execution_count": null,
   "metadata": {},
   "outputs": [],
   "source": [
    "# create a point cloud, dim = (h*w, 3)\n",
    "low, high = 0, np.max(depth1)\n",
    "pc1 = detect.img_to_3D(low, high)\n",
    "\n",
    "# project point cloud one onto the projection plane for frame two\n",
    "pc1_reproj = detect.camMat @ (R @ pc1.T + T)\n",
    "\n",
    "# convert the point cloud in the local coordinate frame of img2 into a depth array\n",
    "h, w = detect.depth1.shape[:2]\n",
    "depth_info = (pc1_reproj[2]).astype(np.uint16)\n",
    "coords = (pc1_reproj[:2] / pc1_reproj[2]).astype(int)\n",
    "\n",
    "d_reproj = np.zeros((h, w))\n",
    "for i in range(pc1_reproj.shape[1]):\n",
    "    c, r = coords[:, i]\n",
    "    if 0 <= c < w and 0 <= r < h:\n",
    "        d_reproj[r, c] = depth_info[i]\n",
    "\n",
    "# smooth the depth array, apply bias/gain normalization\n",
    "d1_blur = cv2.GaussianBlur(d_reproj, (9, 7), 0)\n",
    "d1_dmean = (d1_blur - np.mean(d1_blur)) / np.std(d1_blur)\n",
    "d2_dmean = (depth2 - np.mean(depth2)) / np.std(depth2)\n",
    "\n",
    "# compare the reprojected depth array to the original depth two\n",
    "diff = np.abs(d1_dmean - d2_dmean)\n",
    "diff = (diff * 255).astype(np.uint8)\n",
    "result_3d = cv2.threshold(diff,0,255,cv2.THRESH_BINARY+cv2.THRESH_OTSU)[1]\n",
    "plt.imshow(result_3d, cmap='gray')       "
   ]
  },
  {
   "cell_type": "code",
   "execution_count": null,
   "metadata": {},
   "outputs": [],
   "source": [
    "## how to combine the intensity change and depth change to produce better result\n",
    "## L2 norm, which gives the similar the result as the l1 norm in the following\n",
    "# result1 = np.sqrt(np.square(result_2d) + np.square(result_3d))\n",
    "# plt.imshow(result1.astype(float) > 1.2, cmap='gray')"
   ]
  },
  {
   "cell_type": "code",
   "execution_count": null,
   "metadata": {},
   "outputs": [],
   "source": [
    "kp1, kp2, matches = detect.match()\n",
    "result_3d = detect.detect_3D(kp1, kp2, matches)\n",
    "plt.imshow(result_3d, cmap='gray')"
   ]
  },
  {
   "cell_type": "code",
   "execution_count": null,
   "metadata": {},
   "outputs": [],
   "source": [
    "res = detect.detect()\n",
    "plt.imshow(res, cmap='gray')"
   ]
  },
  {
   "cell_type": "code",
   "execution_count": null,
   "metadata": {},
   "outputs": [],
   "source": [
    "# L1 norm\n",
    "result2 = result_2d * 0.5 + result_3d * 0.5\n",
    "plt.imshow(result2 > 200, cmap='gray')"
   ]
  },
  {
   "cell_type": "code",
   "execution_count": null,
   "metadata": {},
   "outputs": [],
   "source": []
  }
 ],
 "metadata": {
  "kernelspec": {
   "display_name": "Python 3",
   "language": "python",
   "name": "python3"
  },
  "language_info": {
   "codemirror_mode": {
    "name": "ipython",
    "version": 3
   },
   "file_extension": ".py",
   "mimetype": "text/x-python",
   "name": "python",
   "nbconvert_exporter": "python",
   "pygments_lexer": "ipython3",
   "version": "3.8.1"
  }
 },
 "nbformat": 4,
 "nbformat_minor": 4
}

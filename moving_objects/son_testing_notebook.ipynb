{
 "cells": [
  {
   "cell_type": "code",
   "execution_count": null,
   "metadata": {},
   "outputs": [],
   "source": [
    "%load_ext autoreload\n",
    "%autoreload 2\n",
    "\n",
    "import numpy as np\n",
    "import matplotlib\n",
    "import matplotlib.pyplot as plt\n",
    "import matplotlib.image as mpimg\n",
    "import cv2 as cv"
   ]
  },
  {
   "cell_type": "code",
   "execution_count": null,
   "metadata": {},
   "outputs": [],
   "source": [
    "def fast(file, nms_file, non_nms_file):\n",
    "    img = cv.imread(file,0)\n",
    "\n",
    "    # Initiate FAST object with default values\n",
    "    fast = cv.FastFeatureDetector_create()\n",
    "\n",
    "    # find and draw the keypoints\n",
    "    kp = fast.detect(img,None)\n",
    "    img2 = cv.drawKeypoints(img, kp, None, color=(255,0,0))\n",
    "\n",
    "    # Print all default params\n",
    "    print( \"Threshold: {}\".format(fast.getThreshold()) )\n",
    "    print( \"nonmaxSuppression:{}\".format(fast.getNonmaxSuppression()) )\n",
    "    print( \"neighborhood: {}\".format(fast.getType()) )\n",
    "    print( \"Total Keypoints with nonmaxSuppression: {}\".format(len(kp)) )\n",
    "    cv.imwrite(nms_file,img2)\n",
    "\n",
    "    # Disable nonmaxSuppression\n",
    "    fast.setNonmaxSuppression(0)\n",
    "    kp = fast.detect(img,None)\n",
    "    print( \"Total Keypoints without nonmaxSuppression: {}\".format(len(kp)) )\n",
    "    img3 = cv.drawKeypoints(img, kp, None, color=(255,0,0))\n",
    "    cv.imwrite(non_nms_file,img3)\n",
    "\n",
    "def display(img1, img2, title1, title2):\n",
    "    fig, axs = plt.subplots(1, 2, figsize = (15, 7))\n",
    "    axs[0].imshow(img1)\n",
    "    axs[1].imshow(img2)\n",
    "    axs[0].set_title(title1)\n",
    "    axs[1].set_title(title2)\n",
    "    \n",
    "def display_files(file1, file2, title1='', title2=''):\n",
    "    img1 = cv.imread(file1)\n",
    "    img2 = cv.imread(file2)\n",
    "    fig, axs = plt.subplots(1, 2, figsize = (15, 7))\n",
    "    axs[0].imshow(img1, cmap='gray')\n",
    "    axs[1].imshow(img2, cmap='gray')\n",
    "    axs[0].set_title(title1)\n",
    "    axs[1].set_title(title2)\n",
    "    \n",
    "def orb(file):\n",
    "    img = cv.imread(file,0)\n",
    "    \n",
    "    # Initiate ORB detector\n",
    "    orb = cv.ORB_create()\n",
    "    \n",
    "    # find the keypoints with ORB\n",
    "    kp = orb.detect(img,None)\n",
    "    \n",
    "    # compute the descriptors with ORB\n",
    "    kp, des = orb.compute(img, kp)\n",
    "    \n",
    "    # draw only keypoints location,not size and orientation\n",
    "    img2 = cv.drawKeypoints(img, kp, None, color=(0,255,0), flags=0)\n",
    "    plt.figure(figsize=(15,15)), plt.imshow(img2), plt.show()\n",
    "    \n",
    "def feature_matching_bf_orb(file1, file2):\n",
    "    img1 = cv.imread(file1,cv.IMREAD_GRAYSCALE)          # queryImage\n",
    "    img2 = cv.imread(file2,cv.IMREAD_GRAYSCALE) # trainImage\n",
    "    \n",
    "    # Initiate ORB detector\n",
    "    orb = cv.ORB_create()\n",
    "    \n",
    "    # find the keypoints and descriptors with ORB\n",
    "    kp1, des1 = orb.detectAndCompute(img1,None)\n",
    "    kp2, des2 = orb.detectAndCompute(img2,None)\n",
    "    \n",
    "    # create BFMatcher object\n",
    "    bf = cv.BFMatcher(cv.NORM_HAMMING, crossCheck=True)\n",
    "    \n",
    "    # Match descriptors.\n",
    "    matches = bf.match(des1,des2)\n",
    "    \n",
    "    # Sort them in the order of their distance.\n",
    "    matches = sorted(matches, key = lambda x:x.distance)\n",
    "    \n",
    "    # Draw first 10 matches.\n",
    "    img3 = cv.drawMatches(img1,kp1,img2,kp2,matches[:10],None,flags=cv.DrawMatchesFlags_NOT_DRAW_SINGLE_POINTS)\n",
    "    plt.figure(figsize=(20,10)), plt.imshow(img3),plt.show()\n",
    "    \n",
    "def feature_matching_bf_sift(file1, file2):\n",
    "    img1 = cv.imread(file1,cv.IMREAD_GRAYSCALE)          # queryImage\n",
    "    img2 = cv.imread(file2,cv.IMREAD_GRAYSCALE) # trainImage\n",
    "    \n",
    "    # Initiate SIFT detector\n",
    "    sift = cv.xfeatures2d.SIFT_create()\n",
    "    \n",
    "    # find the keypoints and descriptors with SIFT\n",
    "    kp1, des1 = sift.detectAndCompute(img1,None)\n",
    "    kp2, des2 = sift.detectAndCompute(img2,None)\n",
    "    \n",
    "    # BFMatcher with default params\n",
    "    bf = cv.BFMatcher()\n",
    "    matches = bf.knnMatch(des1,des2,k=2)\n",
    "    \n",
    "    # Apply ratio test\n",
    "    good = []\n",
    "    for m,n in matches:\n",
    "        if m.distance < 0.75*n.distance:\n",
    "            good.append([m])\n",
    "            \n",
    "    # cv.drawMatchesKnn expects list of lists as matches.\n",
    "    img3 = cv.drawMatchesKnn(img1,kp1,img2,kp2,good[:10],None,flags=cv.DrawMatchesFlags_NOT_DRAW_SINGLE_POINTS)\n",
    "    plt.figure(figsize=(20,10)), plt.imshow(img3),plt.show()\n",
    "    \n",
    "def feature_matching_flann_sift(file1, file2):\n",
    "    img1 = cv.imread(file1,cv.IMREAD_GRAYSCALE)          # queryImage\n",
    "    img2 = cv.imread(file2,cv.IMREAD_GRAYSCALE) # trainImage\n",
    "    \n",
    "    # Initiate SIFT detector\n",
    "    sift = cv.xfeatures2d.SIFT_create()\n",
    "    \n",
    "    # find the keypoints and descriptors with SIFT\n",
    "    kp1, des1 = sift.detectAndCompute(img1,None)\n",
    "    kp2, des2 = sift.detectAndCompute(img2,None)\n",
    "    \n",
    "    # FLANN parameters\n",
    "    FLANN_INDEX_KDTREE = 1\n",
    "    index_params = dict(algorithm = FLANN_INDEX_KDTREE, trees = 5)\n",
    "    search_params = dict(checks=50)   # or pass empty dictionary\n",
    "    flann = cv.FlannBasedMatcher(index_params,search_params)\n",
    "    matches = flann.knnMatch(des1,des2,k=2)\n",
    "    \n",
    "#     # Need to draw only good matches, so create a mask\n",
    "#     matchesMask = [[0,0] for i in range(len(matches))]\n",
    "    \n",
    "#     # ratio test as per Lowe's paper\n",
    "#     for i,(m,n) in enumerate(matches):\n",
    "#         if m.distance < 0.7*n.distance:\n",
    "#             matchesMask[i]=[1,0]\n",
    "            \n",
    "#     draw_params = dict(matchColor = (0,255,0),\n",
    "#                        singlePointColor = (255,0,0),\n",
    "#                        matchesMask = matchesMask[:10],\n",
    "#                        flags = cv.DrawMatchesFlags_DEFAULT)\n",
    "    \n",
    "#     img3 = cv.drawMatchesKnn(img1,kp1,img2,kp2,matches[:10],None,**draw_params)\n",
    "#     plt.figure(figsize=(20,10)), plt.imshow(img3),plt.show()\n",
    "    \n",
    "    # Apply ratio test\n",
    "    good = []\n",
    "    for m,n in matches:\n",
    "        if m.distance < 0.75*n.distance:\n",
    "            good.append([m])\n",
    "            \n",
    "    # cv.drawMatchesKnn expects list of lists as matches.\n",
    "    img3 = cv.drawMatchesKnn(img1,kp1,img2,kp2,good[:30],None,flags=cv.DrawMatchesFlags_NOT_DRAW_SINGLE_POINTS)\n",
    "    plt.figure(figsize=(20,10)), plt.imshow(img3),plt.show()\n",
    "    \n",
    "    \n",
    "def down_sp(file, down1_file, down2_file, down3_file):\n",
    "    src = cv.imread(file, cv.IMREAD_GRAYSCALE)\n",
    "    print('Original shape: ', src.shape)\n",
    "    \n",
    "    rows, cols = map(int, src.shape)\n",
    "    down1 = cv.pyrDown(src, dstsize=(cols // 2, rows // 2))\n",
    "    print('Down1 shape: ', down1.shape)\n",
    "    cv.imwrite(down1_file, down1)\n",
    "    \n",
    "    rows, cols = map(int, down1.shape)\n",
    "    down2 = cv.pyrDown(down1, dstsize=(cols // 2, rows // 2))\n",
    "    print('Down2 shape: ', down2.shape)\n",
    "    cv.imwrite(down2_file, down2)\n",
    "    \n",
    "    rows, cols = map(int, down2.shape)\n",
    "    down3 = cv.pyrDown(down2, dstsize=(cols // 2, rows // 2))\n",
    "    print('Down2 shape: ', down3.shape)\n",
    "    cv.imwrite(down3_file, down3)\n",
    "    \n",
    "    plt.figure(figsize=(10,10)), plt.imshow(down3), plt.show()\n",
    "    \n",
    "def read_imgs(files):\n",
    "    imgs = []\n",
    "    for file in files:\n",
    "        imgs.append(cv.imread(file, cv.IMREAD_GRAYSCALE))\n",
    "    return imgs\n",
    "    \n",
    "def detect_moving_obj(img1, img2):\n",
    "    \"\"\"\n",
    "    Extract the features of self.prev_gray and cur_gray using FAST detector and BRIEF\n",
    "    :param cur_gray: the input grayscale image\n",
    "    :return: key points and descriptors of self.prev_gray and cur_gray\n",
    "    \"\"\"\n",
    "    GOOD_MATCH_PERCENT = 0.15\n",
    "    fast = cv.FastFeatureDetector_create()\n",
    "    brief = cv.xfeatures2d.BriefDescriptorExtractor_create()\n",
    "    \n",
    "    # Find keypoints and descriptors\n",
    "    kp1 = fast.detect(img1, None)\n",
    "    kp1, des1 = brief.compute(img1, kp1)\n",
    "    kp2 = fast.detect(img2, None)\n",
    "    kp2, des2 = brief.compute(img2, kp2)\n",
    "    \n",
    "    # Match descriptors\n",
    "    bf = cv.BFMatcher(cv.NORM_HAMMING, crossCheck=True)\n",
    "    matches = bf.match(des1,des2)\n",
    "    matches = sorted(matches, key = lambda x:x.distance)\n",
    "    \n",
    "    # Keep good matches\n",
    "    num = int(len(matches) * GOOD_MATCH_PERCENT)\n",
    "    good_matches = matches[:num]\n",
    "    img3 = cv.drawMatches(img1,kp1,img2,kp2,good_matches,None,flags=cv.DrawMatchesFlags_NOT_DRAW_SINGLE_POINTS)\n",
    "    plt.figure(figsize=(20,10)), plt.imshow(img3),plt.show()\n",
    "    \n",
    "    # Extract location of good matches\n",
    "    pts1 = np.zeros((num, 2), dtype=np.float32)\n",
    "    pts2 = np.zeros((num, 2), dtype=np.float32)\n",
    "\n",
    "    for i, match in enumerate(good_matches):\n",
    "        pts1[i, :] = kp1[match.queryIdx].pt\n",
    "        pts2[i, :] = kp2[match.trainIdx].pt\n",
    "\n",
    "#     # Find homography\n",
    "#     H, mask = cv.findHomography(pts1, pts2, cv.RANSAC)\n",
    "#     print(H)\n",
    "#     print('mask shape: ', (mask>0).sum())\n",
    "#     print('point1 shape:', pts1.shape)\n",
    "#     print('point2 shape:', pts2.shape)\n",
    "\n",
    "#     # Use homography\n",
    "#     height, width = img2.shape\n",
    "#     warped_img1 = cv.warpPerspective(img1, H, (width, height))\n",
    "#     plt.figure(figsize=(10,10)), plt.imshow(warped_img1), plt.show()\n",
    "    \n",
    "#     # Find outliers and rerun RANSAC\n",
    "#     mask = mask.flatten()\n",
    "#     outliers1 = pts1[np.where(mask==0)]\n",
    "#     outliers2 = pts2[np.where(mask==0)]\n",
    "#     H1, mask1 = cv.findHomography(outliers1, outliers2, cv.RANSAC)\n",
    "#     print(H1)\n",
    "#     print('mask shape: ', (mask1>0).sum())\n",
    "#     print('point1 shape:', outliers1.shape)\n",
    "#     print('point2 shape:', outliers2.shape)\n",
    "#     warped_img1_1 = cv.warpPerspective(img1, H1, (width, height))\n",
    "#     plt.figure(figsize=(10,10)), plt.imshow(warped_img1_1), plt.show()\n",
    "#     print('norm: ', np.linalg.norm(H1-H))\n",
    "    \n",
    "    height, width = img2.shape\n",
    "    prev_H = np.zeros((3, 3))\n",
    "#     while pts1.shape[0] > 40:\n",
    "    while True:\n",
    "        # Find homography\n",
    "        H, mask = cv.findHomography(pts1, pts2, cv.RANSAC)\n",
    "        num_inliers = (mask>0).sum()\n",
    "        print(H)\n",
    "        print('norm: ', np.linalg.norm(H-prev_H))\n",
    "        print('Inliers: ', num_inliers)\n",
    "        print('point1 shape:', pts1.shape)\n",
    "        print('point2 shape:', pts2.shape)\n",
    "\n",
    "        # Use homography\n",
    "        warped_img1 = cv.warpPerspective(img1, H, (width, height))\n",
    "        plt.figure(figsize=(10,10)), plt.imshow(warped_img1), plt.show()\n",
    "        \n",
    "        \n",
    "        # Update\n",
    "        mask = mask.flatten()\n",
    "        pts1 = pts1[np.where(mask==0)]\n",
    "        pts2 = pts2[np.where(mask==0)]\n",
    "        kp1 = np.asarray(kp1)\n",
    "        kp2 = np.asarray(kp2)\n",
    "        good_matches = np.asarray(good_matches)\n",
    "        kp1 = kp1[np.where(mask==0)]\n",
    "        kp2 = kp2[np.where(mask==0)]\n",
    "        good_matches = good_matches[np.where(mask==0)]\n",
    "        kp1 = kp1.tolist()\n",
    "        kp2 = kp2.tolist()\n",
    "        good_matches = good_matches.tolist()\n",
    "        print(kp1[:10])\n",
    "        print(len(kp1))\n",
    "        print(good_matches[:10])\n",
    "        print(len(good_matches))\n",
    "        img3 = cv.drawMatches(img1,kp1,img2,kp2,good_matches,None,flags=cv.DrawMatchesFlags_NOT_DRAW_SINGLE_POINTS)\n",
    "        plt.figure(figsize=(20,10)), plt.imshow(img3),plt.show()\n",
    "        \n",
    "        if num_inliers == 0 or pts1.size == 0:\n",
    "            break\n",
    "    \n",
    "    \n",
    "        \n",
    "def test(files):\n",
    "    imgs = read_imgs(files)\n",
    "    detect_moving_obj(imgs[0], imgs[1])"
   ]
  },
  {
   "cell_type": "code",
   "execution_count": null,
   "metadata": {},
   "outputs": [],
   "source": [
    "fast('images/1.jpg', 'images/fast/1_true.png', 'images/fast/1_false.png')"
   ]
  },
  {
   "cell_type": "code",
   "execution_count": null,
   "metadata": {},
   "outputs": [],
   "source": [
    "display_files('images/1_true.png', 'images/1_false.png', '1_true', '1_false')"
   ]
  },
  {
   "cell_type": "code",
   "execution_count": null,
   "metadata": {},
   "outputs": [],
   "source": [
    "orb('images/1.jpg')"
   ]
  },
  {
   "cell_type": "code",
   "execution_count": null,
   "metadata": {},
   "outputs": [],
   "source": [
    "feature_matching_bf_orb('images/box1.jpg', 'images/box2.jpg')"
   ]
  },
  {
   "cell_type": "code",
   "execution_count": null,
   "metadata": {},
   "outputs": [],
   "source": [
    "down_sp('images/1.jpg', 'images/1_down1.jpg', 'images/1_down2.jpg', 'images/1_down3.jpg')"
   ]
  },
  {
   "cell_type": "code",
   "execution_count": null,
   "metadata": {},
   "outputs": [],
   "source": [
    "down_sp('images/2.jpg', 'images/2_down1.jpg', 'images/2_down2.jpg', 'images/2_down3.jpg')"
   ]
  },
  {
   "cell_type": "code",
   "execution_count": null,
   "metadata": {},
   "outputs": [],
   "source": [
    "down_sp('images/box1.jpg', 'images/box1_down1.jpg', 'images/box1_down2.jpg', 'images/box1_down3.jpg')"
   ]
  },
  {
   "cell_type": "code",
   "execution_count": null,
   "metadata": {},
   "outputs": [],
   "source": [
    "down_sp('images/box2.jpg', 'images/box2_down1.jpg', 'images/box2_down2.jpg', 'images/box2_down3.jpg')"
   ]
  },
  {
   "cell_type": "code",
   "execution_count": null,
   "metadata": {},
   "outputs": [],
   "source": [
    "feature_matching_bf_orb('images/box1_down3.jpg', 'images/box2_down3.jpg')"
   ]
  },
  {
   "cell_type": "code",
   "execution_count": null,
   "metadata": {},
   "outputs": [],
   "source": [
    "feature_matching_bf_orb('images/1_down3.jpg', 'images/2_down3.jpg')"
   ]
  },
  {
   "cell_type": "code",
   "execution_count": null,
   "metadata": {},
   "outputs": [],
   "source": [
    "feature_matching_bf_sift('images/box1_down3.jpg', 'images/box2_down3.jpg')"
   ]
  },
  {
   "cell_type": "code",
   "execution_count": null,
   "metadata": {},
   "outputs": [],
   "source": [
    "feature_matching_bf_sift('images/1_down3.jpg', 'images/2_down3.jpg')"
   ]
  },
  {
   "cell_type": "code",
   "execution_count": null,
   "metadata": {},
   "outputs": [],
   "source": [
    "feature_matching_flann_sift('images/1_down3.jpg', 'images/2_down3.jpg')"
   ]
  },
  {
   "cell_type": "code",
   "execution_count": null,
   "metadata": {},
   "outputs": [],
   "source": [
    "feature_matching_flann_sift('images/box1_down3.jpg', 'images/box2_down3.jpg')"
   ]
  },
  {
   "cell_type": "code",
   "execution_count": null,
   "metadata": {},
   "outputs": [],
   "source": [
    "down_sp('images/ball1.jpg', 'images/ball1_down1.jpg', 'images/ball1_down2.jpg', 'images/ball1_down3.jpg')"
   ]
  },
  {
   "cell_type": "code",
   "execution_count": null,
   "metadata": {},
   "outputs": [],
   "source": [
    "down_sp('images/ball2.jpg', 'images/ball2_down1.jpg', 'images/ball2_down2.jpg', 'images/ball2_down3.jpg')"
   ]
  },
  {
   "cell_type": "code",
   "execution_count": null,
   "metadata": {},
   "outputs": [],
   "source": [
    "down_sp('images/book1.jpg', 'images/book1_down1.jpg', 'images/book1_down2.jpg', 'images/book1_down3.jpg')"
   ]
  },
  {
   "cell_type": "code",
   "execution_count": null,
   "metadata": {},
   "outputs": [],
   "source": [
    "down_sp('images/book2.jpg', 'images/book2_down1.jpg', 'images/book2_down2.jpg', 'images/book2_down3.jpg')"
   ]
  },
  {
   "cell_type": "code",
   "execution_count": null,
   "metadata": {},
   "outputs": [],
   "source": [
    "down_sp('images/moving_bottle1.jpg', 'images/moving_bottle1_down1.jpg', 'images/moving_bottle1_down2.jpg', 'images/moving_bottle1_down3.jpg')"
   ]
  },
  {
   "cell_type": "code",
   "execution_count": null,
   "metadata": {},
   "outputs": [],
   "source": [
    "down_sp('images/moving_bottle2.jpg', 'images/moving_bottle2_down1.jpg', 'images/moving_bottle2_down2.jpg', 'images/moving_bottle2_down3.jpg')"
   ]
  },
  {
   "cell_type": "code",
   "execution_count": null,
   "metadata": {},
   "outputs": [],
   "source": [
    "test(['images/moving_bottle1_down3.jpg', 'images/moving_bottle2_down3.jpg'])"
   ]
  },
  {
   "cell_type": "code",
   "execution_count": null,
   "metadata": {},
   "outputs": [],
   "source": [
    "test(['images/book1_down3.jpg', 'images/book2_down3.jpg'])"
   ]
  },
  {
   "cell_type": "code",
   "execution_count": null,
   "metadata": {},
   "outputs": [],
   "source": [
    "test(['images/book1_down3.jpg', 'images/book2_down3.jpg'])"
   ]
  },
  {
   "cell_type": "code",
   "execution_count": null,
   "metadata": {},
   "outputs": [],
   "source": [
    "test(['images/moving_bottle1_down3.jpg', 'images/moving_bottle2_down3.jpg'])"
   ]
  },
  {
   "cell_type": "code",
   "execution_count": null,
   "metadata": {},
   "outputs": [],
   "source": []
  }
 ],
 "metadata": {
  "hide_input": false,
  "kernelspec": {
   "display_name": "Python 3",
   "language": "python",
   "name": "python3"
  },
  "language_info": {
   "codemirror_mode": {
    "name": "ipython",
    "version": 3
   },
   "file_extension": ".py",
   "mimetype": "text/x-python",
   "name": "python",
   "nbconvert_exporter": "python",
   "pygments_lexer": "ipython3",
   "version": "3.7.7"
  }
 },
 "nbformat": 4,
 "nbformat_minor": 4
}

{
 "cells": [
  {
   "cell_type": "code",
   "execution_count": null,
   "metadata": {},
   "outputs": [],
   "source": [
    "%load_ext autoreload\n",
    "%autoreload 2\n",
    "\n",
    "import numpy as np\n",
    "import detector"
   ]
  },
  {
   "cell_type": "code",
   "execution_count": null,
   "metadata": {},
   "outputs": [],
   "source": [
    "detect = detector.Detector(None, None)\n",
    "# test function estimate_rigid_transform\n",
    "theta = np.random.rand(1)[0]\n",
    "\n",
    "A = np.random.rand(3000).reshape((1000, 3)) * 1000\n",
    "R = np.array([[np.cos(theta), -np.sin(theta), 0], [np.sin(theta), np.cos(theta), 0], [0, 0, 1]])\n",
    "print(R)\n",
    "T = np.random.rand(3)\n",
    "print(T)\n",
    "B = A @ R.T + T\n",
    "N = np.random.normal(size=(1000, 3))\n",
    "idx = np.random.choice(1000, 700, replace=False)\n",
    "R1, T1 = detect.get_rigid_transform(A.T, B.T)\n",
    "print(R1)\n",
    "print(T1)\n",
    "\n",
    "B[idx] += N[idx]\n",
    "R2, T2, _ = detect.estimate_rigid_transform(A, B)\n",
    "print(R2)\n",
    "print(T2)"
   ]
  },
  {
   "cell_type": "code",
   "execution_count": null,
   "metadata": {},
   "outputs": [],
   "source": []
  }
 ],
 "metadata": {
  "kernelspec": {
   "display_name": "Python 3",
   "language": "python",
   "name": "python3"
  },
  "language_info": {
   "codemirror_mode": {
    "name": "ipython",
    "version": 3
   },
   "file_extension": ".py",
   "mimetype": "text/x-python",
   "name": "python",
   "nbconvert_exporter": "python",
   "pygments_lexer": "ipython3",
   "version": "3.7.7"
  }
 },
 "nbformat": 4,
 "nbformat_minor": 4
}
